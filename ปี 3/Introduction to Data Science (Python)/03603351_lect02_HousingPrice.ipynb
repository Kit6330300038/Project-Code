{
 "cells": [
  {
   "cell_type": "markdown",
   "metadata": {
    "id": "xD_QmDVscWOS"
   },
   "source": [
    "## การทำนายค่ามัธยฐานของราคาบ้านในแต่ละเขตพื้นที่\n",
    "\n",
    "**เป้าหมาย**\n",
    "\n",
    "สร้างโมเดลทำนายค่ามัธยฐานของราคาบ้านของแต่ละพื้นที่\n"
   ]
  },
  {
   "cell_type": "markdown",
   "metadata": {
    "id": "v63TVS6TcWOU"
   },
   "source": [
    "1. ทำความเข้าใจธุรกิจและข้อมูลที่มี\n",
    "\n",
    "เมื่อเริ่มโครงการวิทยาศาสตร์ข้อมูล สิ่งแรกที่จะต้องตั้งคำถามคือ เป้าหมายทางธุรกิจคืออะไร เพราะว่าการสร้างโมเดลอาจจะไม่ใช่เป้าหมายสุดท้ายที่เราต้องการ นักวิทยาศาสตร์ข้อมูลที่ดีจะต้องพยายามทำความเข้าใจธุรกิจในภาพกว้างว่า โมเดลที่เราสร้างขึ้นนี้จะถูกนำไปใช้อย่างไรเพื่ออะไร การกำหนดเป้าหมายทางธุรกิจนี้ มีความสำคัญมากเนื่องจากจะทำให้เราสามารถเลือกอัลกอริทึมและวิธีการประเมินประสิทธิภาพที่เหมาะสมที่สุดได้\n",
    "\n",
    "จากตัวอย่างนี้ นักวิทยาศาสตร์ข้อมูลพบว่าโมเดลที่สร้างขึ้นจะถูกนำไปใช้ในการทำนายราคาบ้านซึ่งบริษัทต้องการนำไปใช้ร่วมกันกับค่าดัชนีอื่น ๆ เพื่อใช้ในการวิเคราะห์การลงทุนด้านอสังหาริมทรัพย์ของบริษัท โดยคำทำนายราคาบ้านที่ได้จากโมเดลของเราจะเป็นปัจจัยสำคัญที่บริษัทใช้เป็นบรรทัดฐานในการตัดสินใจว่าจะลงทุนอสังหาริมทรัพย์ในพื้นที่นั้น ๆ หรือไม่\n",
    "\n",
    "ลำดับถัดไป นักวิทยาศาสตร์ข้อมูลต้องทำความเข้าใจวิธีการทำนายราคาบ้านปัจจุบันที่ใช้กันอยู่ในบริษัท ซึ่งจากการสอบถามพบว่า ราคาบ้านจะถูกทำนายโดยผู้เชี่ยวชาญซึ่งมีข้อมูลล่าสุดในด้านต่างๆ ของเขตพื้นที่นั้น และหากผู้เชี่ยวชาญไม่สามารถหาค่ามัธยฐานของราคาบ้านได้จากข้อมูลที่รวบรวมมา พวกเขาก็จะใช้การคำนวณที่ซับซ้อนบางอย่างเพื่อหาคำทำนายที่ต้องการ\n",
    "\n",
    "การทำนายราคาบ้านแบบปัจจุบันเสียเวลาและค่าใช้จ่ายสูงมาก นอกจากนี้ยังอาจมีความคลาดเคลื่อนสูงถึง 20% บริษัทจึงได้ตัดสินใจใช้วิทยาศาสตร์ข้อมูลมาช่วยแก้ปัญหาดังกล่าว และข้อมูล California Housing Prices ก็น่าจะเป็นข้อมูลที่เหมาะสมเนื่องจากเป็นข้อมูลที่มีค่ามัธยฐานของราคาบ้าน และจำนวนตัวอย่างข้อมูลกว่าสองหมื่นตัวอย่าง"
   ]
  },
  {
   "cell_type": "markdown",
   "metadata": {
    "id": "gTmVLmb9cWOV"
   },
   "source": [
    "2. การกำหนดปัญหา\n",
    "\n",
    "ณ จุดนี้ เรามีความเข้าใจเพียงพอสำหรับกำหนดประเภทของปัญหาได้ นักวิทยาศาสตร์ข้อมูลจะต้องกำหนดประเภทของปัญหาว่าเป็นแบบใด กล่าวคือ\n",
    "\n",
    "(1) รูปแบบการเรียนรู้คือการเรียนรู้แบบใด : supervised learning, unsupervised learning, หรือ reinforcement learning?\n",
    "\n",
    "(2) หากเป็น supervised learning จะเป็นแบบ classification หรือ regression?\n",
    "\n",
    "สำหรับตัวอย่างนี้ ปัญหาการทำนายค่ามัธยฐานของราคาบ้านโดยใช้ชุดข้อมูล California Housing Price คำตอบข้อ (1) คือการเรียนรู้แบบ supervised learning เนื่องจากชุดข้อมูลที่ใช้นี้มีคำตอบที่ต้องการคือค่ามัธยฐานของราคาบ้านรวมอยู่ด้วย ส่วนข้อ (2) คำตอบคือ regression เนื่องจากสิ่งที่ต้องการทำนายคือมัธยฐานของราคาบ้านเป็นค่าตัวเลข ไม่ใช่ประเภทหรือคลาส"
   ]
  },
  {
   "cell_type": "markdown",
   "metadata": {
    "id": "HGjW3LihcWOV"
   },
   "source": [
    "3. เลือกวิธีการประสิทธิภาพของโมเดล\n"
   ]
  },
  {
   "cell_type": "markdown",
   "metadata": {
    "id": "wMcvIIBFcWOV"
   },
   "source": [
    "ในที่นี้เราจะใช้ Root Mean Squared Error (RMSE) ในการวัดความประสิทธิภาพของการทำนายราคาบ้าน ค่า RMSE ที่น้อยกว่าจะหมายถึงโมเดลมีประสิทธิภาพสูงกว่า สูตรสำหรับคำนวณค่า RMSE ของโมเดล $h$ บนชุดข้อมูล $X$ คือ\n",
    "\n",
    "$RMSE(X, h) = \\sqrt{\\frac{1}{m}\\sum_{i=1}^{m} (h(x^{(i)}) - y^{(i)})^2}$\n",
    "\n",
    "เมื่อ \n",
    "\n",
    "- $h(x^{(i)})$ คือคำทำนายค่ามัธยฐานของราคาบ้านของโมเดล $h$ เมื่ออินพุทคือ $x^{(i)}$ ตัวอย่างข้อมูลลำดับที่ i\n",
    "- $ y^{(i)})$ คือค่ามัธยฐานของราคาบ้าน (ค่าจริง) ของอินพุท $x^{(i)}$ \n",
    "\n"
   ]
  },
  {
   "cell_type": "markdown",
   "metadata": {
    "id": "N4QN0_hecWOW"
   },
   "source": [
    "4. เตรียมข้อมูล"
   ]
  },
  {
   "cell_type": "markdown",
   "metadata": {
    "id": "uQAG3nPkcWOW"
   },
   "source": [
    "4.1 ดาวน์โหลดข้อมูลจาก repository"
   ]
  },
  {
   "cell_type": "code",
   "execution_count": 1,
   "metadata": {
    "id": "B7vAGwu-cWOW"
   },
   "outputs": [],
   "source": [
    "from sklearn.datasets import fetch_california_housing\n",
    "\n",
    "housing = fetch_california_housing(as_frame=True)"
   ]
  },
  {
   "cell_type": "markdown",
   "metadata": {
    "id": "V7btb4hrcWOX"
   },
   "source": [
    "ในที่นี้เราใช้ฟังก์ชัน `fetch_california_housing` จากโมดูล `sklearn.datasets` ของไลบารี่ `scikit-learn` ฟังก์ชัน `fetch_california_housing` จะรีเทิร์น Dictionary-like object ที่ประกอบด้วยคีย์ต่อไปนี้คือ\n",
    "* data : numpy array ขนาด (20640,8)\n",
    "* target : numpy array ขนาด (20640,)\n",
    "* feature_names: list ความยาว 8\n",
    "* DESCR  : สตริงที่อธิบายข้อมูลเกี่ยวกับดาต้าเซต\n",
    "* frame : pandas DataFrame ของดาต้าเซต"
   ]
  },
  {
   "cell_type": "code",
   "execution_count": 2,
   "metadata": {
    "colab": {
     "base_uri": "https://localhost:8080/"
    },
    "id": "wQu-TVWgcWOX",
    "outputId": "c841bfbd-b200-43eb-ddac-d06e35156546",
    "tags": []
   },
   "outputs": [
    {
     "name": "stdout",
     "output_type": "stream",
     "text": [
      ".. _california_housing_dataset:\n",
      "\n",
      "California Housing dataset\n",
      "--------------------------\n",
      "\n",
      "**Data Set Characteristics:**\n",
      "\n",
      "    :Number of Instances: 20640\n",
      "\n",
      "    :Number of Attributes: 8 numeric, predictive attributes and the target\n",
      "\n",
      "    :Attribute Information:\n",
      "        - MedInc        median income in block group\n",
      "        - HouseAge      median house age in block group\n",
      "        - AveRooms      average number of rooms per household\n",
      "        - AveBedrms     average number of bedrooms per household\n",
      "        - Population    block group population\n",
      "        - AveOccup      average number of household members\n",
      "        - Latitude      block group latitude\n",
      "        - Longitude     block group longitude\n",
      "\n",
      "    :Missing Attribute Values: None\n",
      "\n",
      "This dataset was obtained from the StatLib repository.\n",
      "https://www.dcc.fc.up.pt/~ltorgo/Regression/cal_housing.html\n",
      "\n",
      "The target variable is the median house value for California districts,\n",
      "expressed in hundreds of thousands of dollars ($100,000).\n",
      "\n",
      "This dataset was derived from the 1990 U.S. census, using one row per census\n",
      "block group. A block group is the smallest geographical unit for which the U.S.\n",
      "Census Bureau publishes sample data (a block group typically has a population\n",
      "of 600 to 3,000 people).\n",
      "\n",
      "An household is a group of people residing within a home. Since the average\n",
      "number of rooms and bedrooms in this dataset are provided per household, these\n",
      "columns may take surpinsingly large values for block groups with few households\n",
      "and many empty houses, such as vacation resorts.\n",
      "\n",
      "It can be downloaded/loaded using the\n",
      ":func:`sklearn.datasets.fetch_california_housing` function.\n",
      "\n",
      ".. topic:: References\n",
      "\n",
      "    - Pace, R. Kelley and Ronald Barry, Sparse Spatial Autoregressions,\n",
      "      Statistics and Probability Letters, 33 (1997) 291-297\n",
      "\n"
     ]
    }
   ],
   "source": [
    "# แสดงข้อมูลเกี่ยวกับ California Housing Price Dataset\n",
    "print(housing.DESCR)"
   ]
  },
  {
   "cell_type": "code",
   "execution_count": 3,
   "metadata": {
    "id": "pN8ssrEycWOY"
   },
   "outputs": [],
   "source": [
    "# เราจะใช้ pandas DataFrame ในการสำรวจข้อมูล\n",
    "hf = housing.frame\n",
    "# แสดง 5 instances แรกในชุดข้อมูล\n",
    "hf.head()\n",
    "hf.to_csv('housing.csv',index=False)"
   ]
  },
  {
   "cell_type": "code",
   "execution_count": 4,
   "metadata": {
    "colab": {
     "base_uri": "https://localhost:8080/"
    },
    "id": "ZpPlKIubcWOY",
    "outputId": "ca33612a-d1b0-4003-a823-e8631b79d652",
    "tags": []
   },
   "outputs": [
    {
     "name": "stdout",
     "output_type": "stream",
     "text": [
      "<class 'pandas.core.frame.DataFrame'>\n",
      "RangeIndex: 20640 entries, 0 to 20639\n",
      "Data columns (total 9 columns):\n",
      " #   Column       Non-Null Count  Dtype  \n",
      "---  ------       --------------  -----  \n",
      " 0   MedInc       20640 non-null  float64\n",
      " 1   HouseAge     20640 non-null  float64\n",
      " 2   AveRooms     20640 non-null  float64\n",
      " 3   AveBedrms    20640 non-null  float64\n",
      " 4   Population   20640 non-null  float64\n",
      " 5   AveOccup     20640 non-null  float64\n",
      " 6   Latitude     20640 non-null  float64\n",
      " 7   Longitude    20640 non-null  float64\n",
      " 8   MedHouseVal  20640 non-null  float64\n",
      "dtypes: float64(9)\n",
      "memory usage: 1.4 MB\n"
     ]
    }
   ],
   "source": [
    "# แสดงข้อมูลเกี่ยวกับ DataFrame\n",
    "hf.info()"
   ]
  },
  {
   "cell_type": "code",
   "execution_count": 5,
   "metadata": {
    "colab": {
     "base_uri": "https://localhost:8080/",
     "height": 282
    },
    "id": "ZNyaihfmcWOY",
    "outputId": "a244fb8d-e693-434c-f9f8-aa2b8a80cf7b"
   },
   "outputs": [
    {
     "data": {
      "text/plain": [
       "<AxesSubplot:>"
      ]
     },
     "execution_count": 5,
     "metadata": {},
     "output_type": "execute_result"
    },
    {
     "data": {
      "image/png": "[encoded data removed]",
      "text/plain": [
       "<Figure size 432x288 with 1 Axes>"
      ]
     },
     "metadata": {
      "needs_background": "light"
     },
     "output_type": "display_data"
    }
   ],
   "source": [
    "hf['MedInc'].hist()"
   ]
  },
  {
   "cell_type": "code",
   "execution_count": 6,
   "metadata": {
    "colab": {
     "base_uri": "https://localhost:8080/"
    },
    "id": "6rmoocmfcWOZ",
    "outputId": "878fb5c5-0683-44aa-8578-4e4ae2b53e56"
   },
   "outputs": [
    {
     "data": {
      "text/plain": [
       "(3.0, 4.5]    7236\n",
       "(1.5, 3.0]    6581\n",
       "(4.5, 6.0]    3639\n",
       "(6.0, inf]    2362\n",
       "(0.0, 1.5]     822\n",
       "Name: income_cat, dtype: int64"
      ]
     },
     "execution_count": 6,
     "metadata": {},
     "output_type": "execute_result"
    }
   ],
   "source": [
    "import pandas as pd\n",
    "import numpy as np\n",
    "hf['income_cat'] = pd.cut(hf['MedInc'], bins=[0., 1.5, 3.0, 4.5, 6.,np.inf])\n",
    "hf['income_cat'].value_counts()"
   ]
  },
  {
   "cell_type": "markdown",
   "metadata": {
    "id": "sG8_WppJcWOZ"
   },
   "source": [
    "4.2 สำรวจข้อมูล (Data Exploration)"
   ]
  },
  {
   "cell_type": "code",
   "execution_count": 7,
   "metadata": {
    "colab": {
     "base_uri": "https://localhost:8080/"
    },
    "id": "-pcKuYHFcWOZ",
    "outputId": "dc685cf1-326e-437d-d762-515a53f8b8bf",
    "tags": []
   },
   "outputs": [
    {
     "name": "stdout",
     "output_type": "stream",
     "text": [
      "<class 'pandas.core.frame.DataFrame'>\n",
      "RangeIndex: 20640 entries, 0 to 20639\n",
      "Data columns (total 10 columns):\n",
      " #   Column       Non-Null Count  Dtype   \n",
      "---  ------       --------------  -----   \n",
      " 0   MedInc       20640 non-null  float64 \n",
      " 1   HouseAge     20640 non-null  float64 \n",
      " 2   AveRooms     20640 non-null  float64 \n",
      " 3   AveBedrms    20640 non-null  float64 \n",
      " 4   Population   20640 non-null  float64 \n",
      " 5   AveOccup     20640 non-null  float64 \n",
      " 6   Latitude     20640 non-null  float64 \n",
      " 7   Longitude    20640 non-null  float64 \n",
      " 8   MedHouseVal  20640 non-null  float64 \n",
      " 9   income_cat   20640 non-null  category\n",
      "dtypes: category(1), float64(9)\n",
      "memory usage: 1.4 MB\n"
     ]
    }
   ],
   "source": [
    "hf.info()"
   ]
  },
  {
   "cell_type": "code",
   "execution_count": 8,
   "metadata": {
    "colab": {
     "base_uri": "https://localhost:8080/",
     "height": 299
    },
    "id": "wKyS21URcWOZ",
    "outputId": "fa5d20f0-142d-4752-81ff-55d18b14280a"
   },
   "outputs": [
    {
     "data": {
      "text/html": [
       "<div>\n",
       "<style scoped>\n",
       "    .dataframe tbody tr th:only-of-type {\n",
       "        vertical-align: middle;\n",
       "    }\n",
       "\n",
       "    .dataframe tbody tr th {\n",
       "        vertical-align: top;\n",
       "    }\n",
       "\n",
       "    .dataframe thead th {\n",
       "        text-align: right;\n",
       "    }\n",
       "</style>\n",
       "<table border=\"1\" class=\"dataframe\">\n",
       "  <thead>\n",
       "    <tr style=\"text-align: right;\">\n",
       "      <th></th>\n",
       "      <th>MedInc</th>\n",
       "      <th>HouseAge</th>\n",
       "      <th>AveRooms</th>\n",
       "      <th>AveBedrms</th>\n",
       "      <th>Population</th>\n",
       "      <th>AveOccup</th>\n",
       "      <th>Latitude</th>\n",
       "      <th>Longitude</th>\n",
       "      <th>MedHouseVal</th>\n",
       "    </tr>\n",
       "  </thead>\n",
       "  <tbody>\n",
       "    <tr>\n",
       "      <th>count</th>\n",
       "      <td>20640.000000</td>\n",
       "      <td>20640.000000</td>\n",
       "      <td>20640.000000</td>\n",
       "      <td>20640.000000</td>\n",
       "      <td>20640.000000</td>\n",
       "      <td>20640.000000</td>\n",
       "      <td>20640.000000</td>\n",
       "      <td>20640.000000</td>\n",
       "      <td>20640.000000</td>\n",
       "    </tr>\n",
       "    <tr>\n",
       "      <th>mean</th>\n",
       "      <td>3.870671</td>\n",
       "      <td>28.639486</td>\n",
       "      <td>5.429000</td>\n",
       "      <td>1.096675</td>\n",
       "      <td>1425.476744</td>\n",
       "      <td>3.070655</td>\n",
       "      <td>35.631861</td>\n",
       "      <td>-119.569704</td>\n",
       "      <td>2.068558</td>\n",
       "    </tr>\n",
       "    <tr>\n",
       "      <th>std</th>\n",
       "      <td>1.899822</td>\n",
       "      <td>12.585558</td>\n",
       "      <td>2.474173</td>\n",
       "      <td>0.473911</td>\n",
       "      <td>1132.462122</td>\n",
       "      <td>10.386050</td>\n",
       "      <td>2.135952</td>\n",
       "      <td>2.003532</td>\n",
       "      <td>1.153956</td>\n",
       "    </tr>\n",
       "    <tr>\n",
       "      <th>min</th>\n",
       "      <td>0.499900</td>\n",
       "      <td>1.000000</td>\n",
       "      <td>0.846154</td>\n",
       "      <td>0.333333</td>\n",
       "      <td>3.000000</td>\n",
       "      <td>0.692308</td>\n",
       "      <td>32.540000</td>\n",
       "      <td>-124.350000</td>\n",
       "      <td>0.149990</td>\n",
       "    </tr>\n",
       "    <tr>\n",
       "      <th>25%</th>\n",
       "      <td>2.563400</td>\n",
       "      <td>18.000000</td>\n",
       "      <td>4.440716</td>\n",
       "      <td>1.006079</td>\n",
       "      <td>787.000000</td>\n",
       "      <td>2.429741</td>\n",
       "      <td>33.930000</td>\n",
       "      <td>-121.800000</td>\n",
       "      <td>1.196000</td>\n",
       "    </tr>\n",
       "    <tr>\n",
       "      <th>50%</th>\n",
       "      <td>3.534800</td>\n",
       "      <td>29.000000</td>\n",
       "      <td>5.229129</td>\n",
       "      <td>1.048780</td>\n",
       "      <td>1166.000000</td>\n",
       "      <td>2.818116</td>\n",
       "      <td>34.260000</td>\n",
       "      <td>-118.490000</td>\n",
       "      <td>1.797000</td>\n",
       "    </tr>\n",
       "    <tr>\n",
       "      <th>75%</th>\n",
       "      <td>4.743250</td>\n",
       "      <td>37.000000</td>\n",
       "      <td>6.052381</td>\n",
       "      <td>1.099526</td>\n",
       "      <td>1725.000000</td>\n",
       "      <td>3.282261</td>\n",
       "      <td>37.710000</td>\n",
       "      <td>-118.010000</td>\n",
       "      <td>2.647250</td>\n",
       "    </tr>\n",
       "    <tr>\n",
       "      <th>max</th>\n",
       "      <td>15.000100</td>\n",
       "      <td>52.000000</td>\n",
       "      <td>141.909091</td>\n",
       "      <td>34.066667</td>\n",
       "      <td>35682.000000</td>\n",
       "      <td>1243.333333</td>\n",
       "      <td>41.950000</td>\n",
       "      <td>-114.310000</td>\n",
       "      <td>5.000010</td>\n",
       "    </tr>\n",
       "  </tbody>\n",
       "</table>\n",
       "</div>"
      ],
      "text/plain": [
       "             MedInc      HouseAge      AveRooms     AveBedrms    Population  \\\n",
       "count  20640.000000  20640.000000  20640.000000  20640.000000  20640.000000   \n",
       "mean       3.870671     28.639486      5.429000      1.096675   1425.476744   \n",
       "std        1.899822     12.585558      2.474173      0.473911   1132.462122   \n",
       "min        0.499900      1.000000      0.846154      0.333333      3.000000   \n",
       "25%        2.563400     18.000000      4.440716      1.006079    787.000000   \n",
       "50%        3.534800     29.000000      5.229129      1.048780   1166.000000   \n",
       "75%        4.743250     37.000000      6.052381      1.099526   1725.000000   \n",
       "max       15.000100     52.000000    141.909091     34.066667  35682.000000   \n",
       "\n",
       "           AveOccup      Latitude     Longitude   MedHouseVal  \n",
       "count  20640.000000  20640.000000  20640.000000  20640.000000  \n",
       "mean       3.070655     35.631861   -119.569704      2.068558  \n",
       "std       10.386050      2.135952      2.003532      1.153956  \n",
       "min        0.692308     32.540000   -124.350000      0.149990  \n",
       "25%        2.429741     33.930000   -121.800000      1.196000  \n",
       "50%        2.818116     34.260000   -118.490000      1.797000  \n",
       "75%        3.282261     37.710000   -118.010000      2.647250  \n",
       "max     1243.333333     41.950000   -114.310000      5.000010  "
      ]
     },
     "execution_count": 8,
     "metadata": {},
     "output_type": "execute_result"
    }
   ],
   "source": [
    "# แสดงสถิติเบื้องต้นเกี่ยวกับชุดข้อมูล\n",
    "hf.describe()"
   ]
  },
  {
   "cell_type": "code",
   "execution_count": 9,
   "metadata": {
    "colab": {
     "base_uri": "https://localhost:8080/",
     "height": 1000
    },
    "id": "LQosoTGwcWOa",
    "outputId": "8b04313c-fdaf-428d-d96f-7fff51d27860"
   },
   "outputs": [
    {
     "data": {
      "text/plain": [
       "array([[<AxesSubplot:title={'center':'MedInc'}>,\n",
       "        <AxesSubplot:title={'center':'HouseAge'}>,\n",
       "        <AxesSubplot:title={'center':'AveRooms'}>],\n",
       "       [<AxesSubplot:title={'center':'AveBedrms'}>,\n",
       "        <AxesSubplot:title={'center':'Population'}>,\n",
       "        <AxesSubplot:title={'center':'AveOccup'}>],\n",
       "       [<AxesSubplot:title={'center':'Latitude'}>,\n",
       "        <AxesSubplot:title={'center':'Longitude'}>,\n",
       "        <AxesSubplot:title={'center':'MedHouseVal'}>]], dtype=object)"
      ]
     },
     "execution_count": 9,
     "metadata": {},
     "output_type": "execute_result"
    },
    {
     "data": {
      "image/png": "[encoded data removed]",
      "text/plain": [
       "<Figure size 1440x1080 with 9 Axes>"
      ]
     },
     "metadata": {
      "needs_background": "light"
     },
     "output_type": "display_data"
    }
   ],
   "source": [
    "%matplotlib inline\n",
    "import matplotlib.pyplot as plt\n",
    "hf.hist(bins=50, figsize=(20,15))"
   ]
  },
  {
   "cell_type": "markdown",
   "metadata": {
    "id": "yGGECNiMcWOa"
   },
   "source": [
    "4.3 แบ่งชุดข้อมูลออกเป็น training และ test datasets"
   ]
  },
  {
   "cell_type": "code",
   "execution_count": 10,
   "metadata": {
    "colab": {
     "base_uri": "https://localhost:8080/"
    },
    "id": "HCSYfwuXcWOa",
    "outputId": "9380a657-eada-4852-f11d-70c97bfae0f1"
   },
   "outputs": [
    {
     "data": {
      "text/plain": [
       "((14448, 8), (6192, 8), (14448,), (6192,))"
      ]
     },
     "execution_count": 10,
     "metadata": {},
     "output_type": "execute_result"
    }
   ],
   "source": [
    "from sklearn.model_selection import train_test_split\n",
    "\n",
    "X = housing.data\n",
    "y = housing.target\n",
    "X_train, X_test, y_train, y_test = train_test_split(X, y, test_size=0.3, random_state=42)\n",
    "X_train.shape, X_test.shape, y_train.shape, y_test.shape"
   ]
  },
  {
   "cell_type": "markdown",
   "metadata": {
    "id": "ht_9xwVncWOa"
   },
   "source": [
    "4.4 สร้างโมเดล Regression"
   ]
  },
  {
   "cell_type": "code",
   "execution_count": 11,
   "metadata": {
    "colab": {
     "base_uri": "https://localhost:8080/"
    },
    "id": "Xi8aBdCGcWOa",
    "outputId": "1dfcbe68-b79e-4ad9-e772-13f944f449bb"
   },
   "outputs": [
    {
     "data": {
      "text/html": [
       "<style>#sk-container-id-1 {color: black;background-color: white;}#sk-container-id-1 pre{padding: 0;}#sk-container-id-1 div.sk-toggleable {background-color: white;}#sk-container-id-1 label.sk-toggleable__label {cursor: pointer;display: block;width: 100%;margin-bottom: 0;padding: 0.3em;box-sizing: border-box;text-align: center;}#sk-container-id-1 label.sk-toggleable__label-arrow:before {content: \"▸\";float: left;margin-right: 0.25em;color: #696969;}#sk-container-id-1 label.sk-toggleable__label-arrow:hover:before {color: black;}#sk-container-id-1 div.sk-estimator:hover label.sk-toggleable__label-arrow:before {color: black;}#sk-container-id-1 div.sk-toggleable__content {max-height: 0;max-width: 0;overflow: hidden;text-align: left;background-color: #f0f8ff;}#sk-container-id-1 div.sk-toggleable__content pre {margin: 0.2em;color: black;border-radius: 0.25em;background-color: #f0f8ff;}#sk-container-id-1 input.sk-toggleable__control:checked~div.sk-toggleable__content {max-height: 200px;max-width: 100%;overflow: auto;}#sk-container-id-1 input.sk-toggleable__control:checked~label.sk-toggleable__label-arrow:before {content: \"▾\";}#sk-container-id-1 div.sk-estimator input.sk-toggleable__control:checked~label.sk-toggleable__label {background-color: #d4ebff;}#sk-container-id-1 div.sk-label input.sk-toggleable__control:checked~label.sk-toggleable__label {background-color: #d4ebff;}#sk-container-id-1 input.sk-hidden--visually {border: 0;clip: rect(1px 1px 1px 1px);clip: rect(1px, 1px, 1px, 1px);height: 1px;margin: -1px;overflow: hidden;padding: 0;position: absolute;width: 1px;}#sk-container-id-1 div.sk-estimator {font-family: monospace;background-color: #f0f8ff;border: 1px dotted black;border-radius: 0.25em;box-sizing: border-box;margin-bottom: 0.5em;}#sk-container-id-1 div.sk-estimator:hover {background-color: #d4ebff;}#sk-container-id-1 div.sk-parallel-item::after {content: \"\";width: 100%;border-bottom: 1px solid gray;flex-grow: 1;}#sk-container-id-1 div.sk-label:hover label.sk-toggleable__label {background-color: #d4ebff;}#sk-container-id-1 div.sk-serial::before {content: \"\";position: absolute;border-left: 1px solid gray;box-sizing: border-box;top: 0;bottom: 0;left: 50%;z-index: 0;}#sk-container-id-1 div.sk-serial {display: flex;flex-direction: column;align-items: center;background-color: white;padding-right: 0.2em;padding-left: 0.2em;position: relative;}#sk-container-id-1 div.sk-item {position: relative;z-index: 1;}#sk-container-id-1 div.sk-parallel {display: flex;align-items: stretch;justify-content: center;background-color: white;position: relative;}#sk-container-id-1 div.sk-item::before, #sk-container-id-1 div.sk-parallel-item::before {content: \"\";position: absolute;border-left: 1px solid gray;box-sizing: border-box;top: 0;bottom: 0;left: 50%;z-index: -1;}#sk-container-id-1 div.sk-parallel-item {display: flex;flex-direction: column;z-index: 1;position: relative;background-color: white;}#sk-container-id-1 div.sk-parallel-item:first-child::after {align-self: flex-end;width: 50%;}#sk-container-id-1 div.sk-parallel-item:last-child::after {align-self: flex-start;width: 50%;}#sk-container-id-1 div.sk-parallel-item:only-child::after {width: 0;}#sk-container-id-1 div.sk-dashed-wrapped {border: 1px dashed gray;margin: 0 0.4em 0.5em 0.4em;box-sizing: border-box;padding-bottom: 0.4em;background-color: white;}#sk-container-id-1 div.sk-label label {font-family: monospace;font-weight: bold;display: inline-block;line-height: 1.2em;}#sk-container-id-1 div.sk-label-container {text-align: center;}#sk-container-id-1 div.sk-container {/* jupyter's `normalize.less` sets `[hidden] { display: none; }` but bootstrap.min.css set `[hidden] { display: none !important; }` so we also need the `!important` here to be able to override the default hidden behavior on the sphinx rendered scikit-learn.org. See: https://github.com/scikit-learn/scikit-learn/issues/21755 */display: inline-block !important;position: relative;}#sk-container-id-1 div.sk-text-repr-fallback {display: none;}</style><div id=\"sk-container-id-1\" class=\"sk-top-container\"><div class=\"sk-text-repr-fallback\"><pre>LinearRegression()</pre><b>In a Jupyter environment, please rerun this cell to show the HTML representation or trust the notebook. <br />On GitHub, the HTML representation is unable to render, please try loading this page with nbviewer.org.</b></div><div class=\"sk-container\" hidden><div class=\"sk-item\"><div class=\"sk-estimator sk-toggleable\"><input class=\"sk-toggleable__control sk-hidden--visually\" id=\"sk-estimator-id-1\" type=\"checkbox\" checked><label for=\"sk-estimator-id-1\" class=\"sk-toggleable__label sk-toggleable__label-arrow\">LinearRegression</label><div class=\"sk-toggleable__content\"><pre>LinearRegression()</pre></div></div></div></div></div>"
      ],
      "text/plain": [
       "LinearRegression()"
      ]
     },
     "execution_count": 11,
     "metadata": {},
     "output_type": "execute_result"
    }
   ],
   "source": [
    "from sklearn.linear_model import LinearRegression\n",
    "\n",
    "lin_reg = LinearRegression()\n",
    "lin_reg.fit(X_train, y_train)"
   ]
  },
  {
   "cell_type": "code",
   "execution_count": null,
   "metadata": {
    "colab": {
     "base_uri": "https://localhost:8080/"
    },
    "id": "KI6DHkZncWOb",
    "outputId": "11e2515f-4e77-4627-99fe-6df0d44bc026"
   },
   "outputs": [],
   "source": [
    "from sklearn.ensemble import RandomForestRegressor\n",
    "\n",
    "rf_reg = RandomForestRegressor()\n",
    "rf_reg.fit(X_train, y_train)"
   ]
  },
  {
   "cell_type": "markdown",
   "metadata": {
    "id": "JO6byc7bcWOb"
   },
   "source": [
    "4.5 ทดสอบประสิทธิภาพโดยการทำนายราคาบ้านของชุดข้อมูลทดสอบ"
   ]
  },
  {
   "cell_type": "code",
   "execution_count": null,
   "metadata": {
    "colab": {
     "base_uri": "https://localhost:8080/"
    },
    "id": "_wC1bdefcWOb",
    "outputId": "e0b31a35-e6c1-49ef-bcbd-0ffb8e34c73e",
    "tags": []
   },
   "outputs": [],
   "source": [
    "from sklearn.metrics import mean_squared_error\n",
    "import numpy as np # np.sqrt()\n",
    "\n",
    "lin_predict = lin_reg.predict(X_test) \n",
    "lin_mse = mean_squared_error(y_test, lin_predict)\n",
    "lin_rmse = np.sqrt(lin_mse)\n",
    "print(\"RMSE of Linear Regressor = \", lin_rmse)\n",
    "\n",
    "rf_predict = rf_reg.predict(X_test)\n",
    "rf_mse = mean_squared_error(y_test, rf_predict)\n",
    "rf_rmse = np.sqrt(rf_mse)\n",
    "print(\"RMSE of Random Forest Regressor  = \", rf_rmse)"
   ]
  },
  {
   "cell_type": "code",
   "execution_count": null,
   "metadata": {
    "id": "nW4N3S867rfw"
   },
   "outputs": [],
   "source": []
  }
 ],
 "metadata": {
  "colab": {
   "name": "03603351_lect02-HousingPrice.ipynb",
   "provenance": []
  },
  "kernelspec": {
   "display_name": "Python 3 (ipykernel)",
   "language": "python",
   "name": "python3"
  },
  "language_info": {
   "codemirror_mode": {
    "name": "ipython",
    "version": 3
   },
   "file_extension": ".py",
   "mimetype": "text/x-python",
   "name": "python",
   "nbconvert_exporter": "python",
   "pygments_lexer": "ipython3",
   "version": "3.9.12"
  }
 },
 "nbformat": 4,
 "nbformat_minor": 4
}

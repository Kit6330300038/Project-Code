{
 "cells": [
  {
   "cell_type": "code",
   "execution_count": 1,
   "id": "8717f9b1-1808-490f-a9d6-e54ee1e5fd51",
   "metadata": {},
   "outputs": [],
   "source": [
    "import numpy as np\n",
    "import matplotlib.pyplot as plt\n",
    "from sklearn.linear_model import LinearRegression"
   ]
  },
  {
   "cell_type": "code",
   "execution_count": 2,
   "id": "b4b4a28d-9e04-4ce0-8ffb-2cfcd34cfa96",
   "metadata": {},
   "outputs": [
    {
     "data": {
      "text/plain": [
       "<matplotlib.collections.PathCollection at 0x2d73de83520>"
      ]
     },
     "execution_count": 2,
     "metadata": {},
     "output_type": "execute_result"
    },
    {
     "data": {
      "image/png": "[encoded data removed]",
      "text/plain": [
       "<Figure size 432x288 with 1 Axes>"
      ]
     },
     "metadata": {
      "needs_background": "light"
     },
     "output_type": "display_data"
    }
   ],
   "source": [
    "x=[1, 2, 3, 4, 5, 6, 7, 8, 9, 10,11,12] # เดือน\n",
    "y=[25,35,25,42,51,60,62,72,78,90,92,26] # จำนวนสินค้าที่ขายได้ในแต่ละเดือน\n",
    "# y = y[::-1]\n",
    "plt.scatter(x,y) # Scatter Plot"
   ]
  },
  {
   "cell_type": "code",
   "execution_count": 3,
   "id": "e4698056-bbe6-4465-aeac-db00c117f21d",
   "metadata": {},
   "outputs": [
    {
     "data": {
      "text/plain": [
       "0.39024417350714846"
      ]
     },
     "execution_count": 3,
     "metadata": {},
     "output_type": "execute_result"
    }
   ],
   "source": [
    "model=LinearRegression()\n",
    "\n",
    "x=np.array(x) # เปลี่ยน list เป็น array\n",
    "y=np.array(y) # เปลี่ยน list เป็น array\n",
    "x=x.reshape(-1,1) # เปลี่ยน x ให้เป็น array 2D\n",
    "\n",
    "model.fit(x,y) # เทรน Model\n",
    "\n",
    "model.score(x,y) # เมื่อเทรนเสร็จ ใช้คำสั่งนี้แสดงค่า r ของความสัมพันธ์\n",
    "# Output ของค่า r คือ 0.9850564740092783"
   ]
  },
  {
   "cell_type": "code",
   "execution_count": 4,
   "id": "22e4f7e5-a741-4640-8999-e8bad93c0054",
   "metadata": {},
   "outputs": [
    {
     "data": {
      "text/plain": [
       "[<matplotlib.lines.Line2D at 0x2d73e63d340>]"
      ]
     },
     "execution_count": 4,
     "metadata": {},
     "output_type": "execute_result"
    },
    {
     "data": {
      "image/png": "[encoded data removed]",
      "text/plain": [
       "<Figure size 432x288 with 1 Axes>"
      ]
     },
     "metadata": {
      "needs_background": "light"
     },
     "output_type": "display_data"
    }
   ],
   "source": [
    "xtest=np.linspace(0,11) # สร้างชุดข้อมูลสำหรับทดสอบขึ้นมา โดยเป็นชุดข้อมูลตัวเลขระหว่าง 0-11\n",
    "\n",
    "xtest=x.reshape(-1,1) # เปลี่ยน xtest เป็น array 2D\n",
    "ytest=model.predict(xtest) # ทดสอบโมเดลด้วย xtest\n",
    "\n",
    "plt.scatter(x,y) # นำค่า x, y ชุดข้อมูลตัวอย่างมา Scatter Plot\n",
    "plt.plot(xtest,ytest) # นำค่า xtest, ytest มา Plot"
   ]
  },
  {
   "cell_type": "code",
   "execution_count": null,
   "id": "fc0d60dd-65fc-45ea-955d-b09cb49c1d96",
   "metadata": {},
   "outputs": [],
   "source": []
  }
 ],
 "metadata": {
  "kernelspec": {
   "display_name": "Python 3 (ipykernel)",
   "language": "python",
   "name": "python3"
  },
  "language_info": {
   "codemirror_mode": {
    "name": "ipython",
    "version": 3
   },
   "file_extension": ".py",
   "mimetype": "text/x-python",
   "name": "python",
   "nbconvert_exporter": "python",
   "pygments_lexer": "ipython3",
   "version": "3.9.7"
  }
 },
 "nbformat": 4,
 "nbformat_minor": 5
}

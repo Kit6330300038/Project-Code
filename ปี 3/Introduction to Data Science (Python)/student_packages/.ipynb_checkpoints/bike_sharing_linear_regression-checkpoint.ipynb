{
 "cells": [
  {
   "cell_type": "markdown",
   "id": "6c3e7592-5cd9-498d-92e2-5c6ceffa3e54",
   "metadata": {},
   "source": [
    "<h2 align=\"center\">Linear Regression (from scratch)</h2>"
   ]
  },
  {
   "cell_type": "markdown",
   "id": "7f1c4ce5-c70f-4ef9-b783-061946105ccc",
   "metadata": {
    "tags": []
   },
   "source": [
    "### 1: Load the Libraries and Data\n",
    "---"
   ]
  },
  {
   "cell_type": "code",
   "execution_count": 1,
   "id": "b7a8c693-abb5-4d06-bf21-0141da38164c",
   "metadata": {},
   "outputs": [],
   "source": [
    "import matplotlib.pyplot as plt\n",
    "plt.style.use('ggplot')\n",
    "%matplotlib inline"
   ]
  },
  {
   "cell_type": "code",
   "execution_count": 2,
   "id": "aea2ed89-4123-4025-8bdd-4bad9674e693",
   "metadata": {},
   "outputs": [],
   "source": [
    "import numpy as np\n",
    "import pandas as pd\n",
    "import seaborn as sns"
   ]
  },
  {
   "cell_type": "code",
   "execution_count": 3,
   "id": "46bfcd5b-41dc-4ecf-a13c-c9a12141e2fe",
   "metadata": {},
   "outputs": [
    {
     "ename": "TypeError",
     "evalue": "head() got an unexpected keyword argument 'rows'",
     "output_type": "error",
     "traceback": [
      "\u001b[0;31m---------------------------------------------------------------------------\u001b[0m",
      "\u001b[0;31mTypeError\u001b[0m                                 Traceback (most recent call last)",
      "Input \u001b[0;32mIn [3]\u001b[0m, in \u001b[0;36m<cell line: 2>\u001b[0;34m()\u001b[0m\n\u001b[1;32m      1\u001b[0m data \u001b[38;5;241m=\u001b[39m pd\u001b[38;5;241m.\u001b[39mread_csv(\u001b[38;5;124m'\u001b[39m\u001b[38;5;124mbike_sharing_data.txt\u001b[39m\u001b[38;5;124m'\u001b[39m, delimiter\u001b[38;5;241m=\u001b[39m\u001b[38;5;124m'\u001b[39m\u001b[38;5;124m,\u001b[39m\u001b[38;5;124m'\u001b[39m)\n\u001b[0;32m----> 2\u001b[0m \u001b[43mdata\u001b[49m\u001b[38;5;241;43m.\u001b[39;49m\u001b[43mhead\u001b[49m\u001b[43m(\u001b[49m\u001b[43mrows\u001b[49m\u001b[38;5;241;43m=\u001b[39;49m\u001b[38;5;241;43m10\u001b[39;49m\u001b[43m)\u001b[49m\n",
      "\u001b[0;31mTypeError\u001b[0m: head() got an unexpected keyword argument 'rows'"
     ]
    }
   ],
   "source": [
    "data = pd.read_csv('bike_sharing_data.txt', delimiter=',')\n",
    "data.head()"
   ]
  },
  {
   "cell_type": "code",
   "execution_count": null,
   "id": "897a8823-6edd-4362-8036-0646dd5b1dc8",
   "metadata": {},
   "outputs": [],
   "source": [
    "data.info()"
   ]
  },
  {
   "cell_type": "code",
   "execution_count": null,
   "id": "86e856e9-7a43-44a4-b238-1d5257217a27",
   "metadata": {},
   "outputs": [],
   "source": [
    "# drop nan\n",
    "data = data.dropna()"
   ]
  },
  {
   "cell_type": "code",
   "execution_count": null,
   "id": "44088571-09d7-435d-abbb-b91e46f1984b",
   "metadata": {},
   "outputs": [],
   "source": [
    "data.describe()"
   ]
  },
  {
   "cell_type": "markdown",
   "id": "21ab07b0-15d9-41cb-af0f-847f70b104e0",
   "metadata": {
    "tags": []
   },
   "source": [
    "### 2: Visualize the Data\n",
    "---"
   ]
  },
  {
   "cell_type": "code",
   "execution_count": null,
   "id": "00ab04ca-cbea-4f3a-afcb-a9beeb67a725",
   "metadata": {},
   "outputs": [],
   "source": [
    "ax = sns.scatterplot(x='Population', y='Profit', data=data, palette='bright')\n",
    "ax.set_title('Profit in $10000s vs City Population')"
   ]
  },
  {
   "cell_type": "markdown",
   "id": "86123fee-2613-4a26-9d53-dbf8b4932bfa",
   "metadata": {
    "tags": []
   },
   "source": [
    "### 3: Prepare Datasets\n",
    "---"
   ]
  },
  {
   "cell_type": "code",
   "execution_count": null,
   "id": "a5779681-81fa-4aca-8842-defedd89c7f0",
   "metadata": {},
   "outputs": [],
   "source": [
    "def prepare_X_y(data, y_column, m):\n",
    "    X_columns = [c for c in data.columns if c != y_column]\n",
    "    X = data.loc[:, X_columns]\n",
    "    X = np.append(np.ones((m, 1)), X, axis=1)\n",
    "    y = data.loc[:, y_column].values.reshape(m, 1)\n",
    "    return X, y\n",
    "\n",
    "def split_train_test_datasets(data, y_column, test_frac, random_state):\n",
    "    test_data  = data.sample(frac=test_frac, random_state=random_state)\n",
    "    train_data = data.loc[~data.index.isin(test_data.index)]\n",
    "    X_train, y_train = prepare_X_y(train_data, y_column, m=train_data.shape[0])\n",
    "    X_test, y_test = prepare_X_y(test_data, y_column, m=test_data.shape[0])\n",
    "    return X_train, y_train, X_test, y_test\n",
    "\n",
    "def initialize_theta(num_features):\n",
    "    theta = np.zeros((num_features, 1))\n",
    "    return theta"
   ]
  },
  {
   "cell_type": "code",
   "execution_count": null,
   "id": "b6c9797f-def4-465f-acf4-26a153b2eb58",
   "metadata": {},
   "outputs": [],
   "source": [
    "y_col = 'Profit'\n",
    "num_features = data.columns.size\n",
    "X_train, y_train, X_test, y_test = split_train_test_datasets(data, y_col, test_frac=0.2, random_state=37)\n",
    "theta = initialize_theta(num_features)"
   ]
  },
  {
   "cell_type": "code",
   "execution_count": null,
   "id": "754ad7a3-8460-43d1-ab57-8aea2bdabd8c",
   "metadata": {},
   "outputs": [],
   "source": [
    "X_train.shape, y_train.shape, X_test.shape, y_test.shape"
   ]
  },
  {
   "cell_type": "code",
   "execution_count": null,
   "id": "11a0ef6a-8b9f-4cb3-9f3c-a7777b03b848",
   "metadata": {},
   "outputs": [],
   "source": [
    "print(theta)\n",
    "theta.shape"
   ]
  },
  {
   "cell_type": "markdown",
   "id": "278dfac5-02ab-4b8b-886b-8cfe58091966",
   "metadata": {
    "tags": []
   },
   "source": [
    "### 4: Compute the Cost $J(\\theta)$\n",
    "---"
   ]
  },
  {
   "cell_type": "markdown",
   "id": "635ac837-9008-452d-86e2-ab66a94edeaf",
   "metadata": {},
   "source": [
    "The objective of linear regression is to minimize the cost function\n",
    "\n",
    "$$J(\\theta) = \\frac{1}{2m} \\sum_{i=1}^m (h_\\theta(x^{(i)}) - y^{(i)} )^2$$\n",
    "\n",
    "where $h_{\\theta}(x)$ is the hypothesis and given by the linear model\n",
    "\n",
    "$$h_{\\theta}(x) = x\\theta = \\sum_{j=1}^{n} {\\theta_j x_j}$$\n",
    "\n",
    "and\n",
    "\n",
    "`m = number of instances` \n",
    "`n = number of features`"
   ]
  },
  {
   "cell_type": "code",
   "execution_count": null,
   "id": "43a97c5c-5ec2-4bf5-a32f-15e49930e1ef",
   "metadata": {},
   "outputs": [],
   "source": [
    "def cost_function(X, y, theta):\n",
    "    m = len(y)\n",
    "    y_pred = X.dot(theta)                \n",
    "    error = (y_pred - y) ** 2          \n",
    "    return 1 / (2 * m) * np.sum(error)"
   ]
  },
  {
   "cell_type": "code",
   "execution_count": null,
   "id": "22cfc124-1d2f-47d4-814f-b4bead3e3d41",
   "metadata": {},
   "outputs": [],
   "source": [
    "print(X_train[0], y_train[0])\n",
    "cost_function(X_train, y_train, theta)"
   ]
  },
  {
   "cell_type": "markdown",
   "id": "cebc42a4-3985-445e-99d2-09942c5927d8",
   "metadata": {
    "tags": []
   },
   "source": [
    "### 5: Gradient Descent\n",
    "---"
   ]
  },
  {
   "cell_type": "markdown",
   "id": "2a2ef9ee-5111-4b37-8fb2-e13b14151359",
   "metadata": {},
   "source": [
    "Minimize the cost function $J(\\theta)$ by updating the below equation and repeat unitil convergence\n",
    "        \n",
    "$\\theta_j := \\theta_j - \\alpha \\frac{1}{m} \\sum_{i=1}^m (h_{\\theta}(x^{(i)}) - y^{(i)})x_j^{(i)}$ (simultaneously update $\\theta_j$ for all $j$)."
   ]
  },
  {
   "cell_type": "code",
   "execution_count": null,
   "id": "a1d0edf8-58e5-49f9-a316-b5a8b2ac8c5d",
   "metadata": {},
   "outputs": [],
   "source": [
    "def gradient_descent(X, y, alpha, iterations):\n",
    "    m = len(y)\n",
    "    costs = []\n",
    "    theta = initialize_theta(X.shape[1])\n",
    "    for i in range(iterations):\n",
    "        y_pred = X.dot(theta)\n",
    "        propagated_error = np.dot(X.transpose(), (y_pred - y))\n",
    "        theta = theta - alpha * (1/m) * propagated_error\n",
    "        costs.append(cost_function(X, y, theta))\n",
    "        if i % 200 == 0: \n",
    "            print(\"Iteration %4d: MSE = %.5f\" % (i+1, costs[-1]))\n",
    "    \n",
    "    print(\"Iteration %4d: MSE = %.5f\" % (i+1, costs[-1]) )\n",
    "    return theta, costs"
   ]
  },
  {
   "cell_type": "code",
   "execution_count": null,
   "id": "555aced2-9ee3-42a7-acb6-cbcc1b354f11",
   "metadata": {},
   "outputs": [],
   "source": [
    "theta, costs = gradient_descent(X_train, y_train, alpha=0.01, iterations=2000)"
   ]
  },
  {
   "cell_type": "markdown",
   "id": "2f28cda7-a17c-4e16-9da3-e8e1d580c7f2",
   "metadata": {
    "tags": []
   },
   "source": [
    "### 6: Plotting the Convergence\n",
    "---"
   ]
  },
  {
   "cell_type": "code",
   "execution_count": null,
   "id": "cc3e84c4-e07f-4366-b0c0-4985eb7dddfe",
   "metadata": {},
   "outputs": [],
   "source": [
    "plt.plot(costs)\n",
    "plt.xlabel(\"Iterations\")\n",
    "plt.ylabel(\"$J(\\Theta)$\")\n",
    "plt.title(\"Values of the Cost Function over Iterations of Gradient Descent\")"
   ]
  },
  {
   "cell_type": "markdown",
   "id": "2ec27c20-d1ea-4a44-99c4-5e8546be7d88",
   "metadata": {
    "tags": []
   },
   "source": [
    "### 7: Visualising the Cost Function $J(\\theta)$\n",
    "---"
   ]
  },
  {
   "cell_type": "code",
   "execution_count": null,
   "id": "04d0ed16-b0b4-4a67-a8bb-109bfdfae089",
   "metadata": {},
   "outputs": [],
   "source": [
    "from mpl_toolkits.mplot3d import Axes3D\n",
    "\n",
    "theta_0 = np.linspace(-5, 5, 100)\n",
    "theta_1 = np.linspace(-5, 5, 100)\n",
    "\n",
    "cost_values = np.zeros((len(theta_0), len(theta_1)))\n",
    "\n",
    "min_cost = float('inf')\n",
    "min_cost_i = 0\n",
    "min_cost_j = 0\n",
    "for i in range(len(theta_0)):\n",
    "    for j in range(len(theta_1)):\n",
    "        t = np.array([theta_0[i], theta_1[j]])\n",
    "        cost_values[i, j] = cost_function(X_train, y_train, t)\n",
    "        if min_cost > cost_values[i, j]:\n",
    "            min_cost = cost_values[i, j]\n",
    "            min_cost_i = i\n",
    "            min_cost_j = j\n",
    "            \n",
    "            \n",
    "fig = plt.figure(figsize=(16, 12))\n",
    "ax = plt.axes(projection='3d')\n",
    "surf = ax.plot_surface(theta_0, theta_1, cost_values, cmap='viridis')\n",
    "fig.colorbar(surf, shrink=0.5, aspect=10)\n",
    "\n",
    "plt.xlabel('$\\Theta_0$')\n",
    "plt.ylabel('$\\Theta_1$')\n",
    "ax.set_zlabel('$J(\\Theta)$')\n",
    "ax.view_init(40, 120)\n",
    "\n",
    "print(\"Min cost: theta_0 = {}, theta_1 = {}\".format( theta_0[min_cost_i], theta_1[min_cost_j] ))\n",
    "plt.show()"
   ]
  },
  {
   "cell_type": "markdown",
   "id": "cac977cf-ad98-405b-8250-df27aa33ae5d",
   "metadata": {
    "tags": []
   },
   "source": [
    "### 8: Training Data with Linear Regression Fit\n",
    "---"
   ]
  },
  {
   "cell_type": "code",
   "execution_count": null,
   "id": "6f126dad-8abb-4c95-a3af-c870ab5981e6",
   "metadata": {},
   "outputs": [],
   "source": [
    "print(theta.shape)\n",
    "print(theta)\n",
    "print(\"h(x) = {} + {}x\".format(str(round(theta[0, 0], 2)), \n",
    "                               str(round(theta[1, 0], 2))))"
   ]
  },
  {
   "cell_type": "code",
   "execution_count": null,
   "id": "f7625b5d-1950-47eb-83fb-a34e4750b427",
   "metadata": {},
   "outputs": [],
   "source": [
    "sns.scatterplot(x='Population', y='Profit', data=data)\n",
    "\n",
    "x_value = [x for x in range(5, 25)]\n",
    "y_value = [(x * theta[1, 0] + theta[0, 0]) for x in x_value]\n",
    "sns.lineplot(x=x_value, y=y_value, color='b')\n",
    "\n",
    "plt.xlabel('Population in 100000s')\n",
    "plt.ylabel('Profit in 10000s')\n",
    "plt.title('Linear Regression Fit')"
   ]
  },
  {
   "cell_type": "markdown",
   "id": "88480a12-cbe2-4c47-8960-92eb4460ce1e",
   "metadata": {
    "tags": []
   },
   "source": [
    "### 9: Inference on test dataset using the optimized $\\theta$ values\n",
    "---"
   ]
  },
  {
   "cell_type": "code",
   "execution_count": null,
   "id": "8e715010-5819-4006-92eb-d3df31e0690a",
   "metadata": {},
   "outputs": [],
   "source": [
    "# Evaluate performance on the test data\n",
    "def predict(X, theta):\n",
    "    y_pred = X.dot(theta)    \n",
    "    return y_pred"
   ]
  },
  {
   "cell_type": "code",
   "execution_count": null,
   "id": "12499876-a811-4137-9eda-eed4189113d1",
   "metadata": {},
   "outputs": [],
   "source": [
    "y_pred = predict(X_test, theta)\n",
    "mse_test = cost_function(X_test, y_test, theta)\n",
    "\n",
    "print(\"For a population of {} people, the model predicts a profit of ${:.1f}\".format(\n",
    "    int(X_test[0][1]*10000), y_pred[0][0]*10000\n",
    "))\n",
    "\n",
    "print(\"For a population of {} people, the model predicts a profit of ${:.1f}\".format(\n",
    "    int(X_test[10][1]*10000), y_pred[10][0]*10000\n",
    "))\n",
    "\n",
    "print(\"MSE =\", mse_test)\n"
   ]
  }
 ],
 "metadata": {
  "kernelspec": {
   "display_name": "Python 3 (ipykernel)",
   "language": "python",
   "name": "python3"
  },
  "language_info": {
   "codemirror_mode": {
    "name": "ipython",
    "version": 3
   },
   "file_extension": ".py",
   "mimetype": "text/x-python",
   "name": "python",
   "nbconvert_exporter": "python",
   "pygments_lexer": "ipython3",
   "version": "3.9.12"
  }
 },
 "nbformat": 4,
 "nbformat_minor": 5
}

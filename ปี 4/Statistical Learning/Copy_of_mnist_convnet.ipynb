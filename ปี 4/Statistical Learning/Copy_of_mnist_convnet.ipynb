{
  "cells": [
    {
      "cell_type": "markdown",
      "metadata": {
        "id": "NNT327C6L9Sh"
      },
      "source": [
        "# Simple MNIST convnet\n",
        "\n",
        "**Author:** [fchollet](https://twitter.com/fchollet)<br>\n",
        "**Date created:** 2015/06/19<br>\n",
        "**Last modified:** 2020/04/21<br>\n",
        "**Description:** A simple convnet that achieves ~99% test accuracy on MNIST."
      ]
    },
    {
      "cell_type": "markdown",
      "metadata": {
        "id": "g-2_auw1L9Sr"
      },
      "source": [
        "## Setup"
      ]
    },
    {
      "cell_type": "code",
      "execution_count": 61,
      "metadata": {
        "colab": {
          "base_uri": "https://localhost:8080/"
        },
        "id": "A1CCNSSmL9Ss",
        "outputId": "6a79b867-8751-4c05-b954-2c72923f3665"
      },
      "outputs": [
        {
          "output_type": "stream",
          "name": "stdout",
          "text": [
            "Drive already mounted at /Pests; to attempt to forcibly remount, call drive.mount(\"/Pests\", force_remount=True).\n"
          ]
        }
      ],
      "source": [
        "import numpy as np\n",
        "import tensorflow as tf\n",
        "from tensorflow import keras\n",
        "from tensorflow.keras import layers\n",
        "from tensorflow.keras.preprocessing.image import ImageDataGenerator\n",
        "import os\n",
        "from google.colab import drive\n",
        "\n",
        "drive.mount('/Pests')"
      ]
    },
    {
      "cell_type": "markdown",
      "metadata": {
        "id": "UKxmH0NZL9Sv"
      },
      "source": [
        "## Prepare the data"
      ]
    },
    {
      "cell_type": "code",
      "execution_count": 62,
      "metadata": {
        "colab": {
          "base_uri": "https://localhost:8080/"
        },
        "id": "vXc10msNL9Sw",
        "outputId": "9b473569-1329-472c-cbfb-6ae8ff85ec1e"
      },
      "outputs": [
        {
          "output_type": "stream",
          "name": "stdout",
          "text": [
            "Found 4912 files belonging to 12 classes.\n",
            "Using 3930 files for training.\n",
            "Found 4912 files belonging to 12 classes.\n",
            "Using 982 files for validation.\n",
            "Found 600 files belonging to 12 classes.\n"
          ]
        }
      ],
      "source": [
        "pathtrain = '/Pests/MyDrive/Pests/train'\n",
        "pathtest ='/Pests/MyDrive/Pests/test'\n",
        "\n",
        "\n",
        "# Model / data parameters\n",
        "num_classes = 12\n",
        "input_shape = (32, 32, 1)\n",
        "\n",
        "\n",
        "\n",
        "# Load the data and split it between train and test sets\n",
        "data_train = keras.utils.image_dataset_from_directory(\n",
        "        pathtrain,\n",
        "        color_mode=\"grayscale\",\n",
        "        validation_split=0.2,\n",
        "        subset=\"training\",\n",
        "        seed=69,\n",
        "        image_size=(32, 32),\n",
        "        batch_size=128)\n",
        "\n",
        "data_val = keras.utils.image_dataset_from_directory(\n",
        "        pathtrain,\n",
        "        color_mode=\"grayscale\",\n",
        "        validation_split=0.2,\n",
        "        subset=\"validation\",\n",
        "        seed=69,\n",
        "        image_size=(32, 32),\n",
        "        batch_size=128)\n",
        "\n",
        "\n",
        "data_test = keras.utils.image_dataset_from_directory(\n",
        "        pathtest,\n",
        "        color_mode=\"grayscale\",\n",
        "        image_size=(32, 32))\n",
        "\n",
        "def process(image,label):\n",
        "    image = tf.cast(image/255. ,tf.float32)\n",
        "    return image,label\n",
        "\n",
        "data_train = data_train.map(process)\n",
        "data_val = data_val.map(process)\n",
        "data_test = data_test.map(process)\n",
        "\n"
      ]
    },
    {
      "cell_type": "markdown",
      "metadata": {
        "id": "9tOK2EsML9Sx"
      },
      "source": [
        "## Build the model"
      ]
    },
    {
      "cell_type": "code",
      "execution_count": 113,
      "metadata": {
        "colab": {
          "base_uri": "https://localhost:8080/"
        },
        "id": "EEowUHYoL9Sy",
        "outputId": "c78acbe2-5160-45c3-d35b-2d61785903d1"
      },
      "outputs": [
        {
          "output_type": "stream",
          "name": "stdout",
          "text": [
            "Model: \"sequential_31\"\n",
            "_________________________________________________________________\n",
            " Layer (type)                Output Shape              Param #   \n",
            "=================================================================\n",
            " conv2d_62 (Conv2D)          (None, 29, 29, 64)        1088      \n",
            "                                                                 \n",
            " max_pooling2d_62 (MaxPooli  (None, 14, 14, 64)        0         \n",
            " ng2D)                                                           \n",
            "                                                                 \n",
            " conv2d_63 (Conv2D)          (None, 12, 12, 102)       58854     \n",
            "                                                                 \n",
            " max_pooling2d_63 (MaxPooli  (None, 6, 6, 102)         0         \n",
            " ng2D)                                                           \n",
            "                                                                 \n",
            " flatten_31 (Flatten)        (None, 3672)              0         \n",
            "                                                                 \n",
            " dropout_31 (Dropout)        (None, 3672)              0         \n",
            "                                                                 \n",
            " dense_31 (Dense)            (None, 12)                44076     \n",
            "                                                                 \n",
            "=================================================================\n",
            "Total params: 104018 (406.32 KB)\n",
            "Trainable params: 104018 (406.32 KB)\n",
            "Non-trainable params: 0 (0.00 Byte)\n",
            "_________________________________________________________________\n"
          ]
        }
      ],
      "source": [
        "model = keras.Sequential(\n",
        "    [\n",
        "        keras.Input(shape=input_shape),\n",
        " #       layers.Rescaling(1./255),\n",
        "        layers.Conv2D(64, kernel_size=(4, 4), activation=\"relu\"),\n",
        "        layers.MaxPooling2D(pool_size=(2, 2)),\n",
        "        layers.Conv2D(102, kernel_size=(3, 3), activation=\"relu\"),\n",
        "        layers.MaxPooling2D(pool_size=(2, 2)),\n",
        "        layers.Flatten(),\n",
        "        layers.Dropout(0.3),\n",
        "        layers.Dense(num_classes, activation=\"softmax\"),\n",
        "    ]\n",
        ")\n",
        "\n",
        "model.summary()"
      ]
    },
    {
      "cell_type": "markdown",
      "metadata": {
        "id": "LlryT-YWL9S0"
      },
      "source": [
        "## Train the model"
      ]
    },
    {
      "cell_type": "code",
      "execution_count": 114,
      "metadata": {
        "colab": {
          "base_uri": "https://localhost:8080/"
        },
        "id": "ordtH0ejL9S1",
        "outputId": "599b7420-7340-4abb-b889-7a6419ad608a"
      },
      "outputs": [
        {
          "output_type": "stream",
          "name": "stdout",
          "text": [
            "Epoch 1/20\n",
            "31/31 [==============================] - 15s 403ms/step - loss: 2.4708 - accuracy: 0.1247 - val_loss: 2.4466 - val_accuracy: 0.1497\n",
            "Epoch 2/20\n",
            "31/31 [==============================] - 16s 477ms/step - loss: 2.3779 - accuracy: 0.1891 - val_loss: 2.3369 - val_accuracy: 0.1874\n",
            "Epoch 3/20\n",
            "31/31 [==============================] - 14s 380ms/step - loss: 2.2668 - accuracy: 0.2257 - val_loss: 2.2607 - val_accuracy: 0.2210\n",
            "Epoch 4/20\n",
            "31/31 [==============================] - 16s 473ms/step - loss: 2.1863 - accuracy: 0.2616 - val_loss: 2.2263 - val_accuracy: 0.2393\n",
            "Epoch 5/20\n",
            "31/31 [==============================] - 16s 447ms/step - loss: 2.1393 - accuracy: 0.2822 - val_loss: 2.1836 - val_accuracy: 0.2546\n",
            "Epoch 6/20\n",
            "31/31 [==============================] - 16s 429ms/step - loss: 2.1029 - accuracy: 0.2941 - val_loss: 2.1521 - val_accuracy: 0.2872\n",
            "Epoch 7/20\n",
            "31/31 [==============================] - 14s 394ms/step - loss: 2.0331 - accuracy: 0.3193 - val_loss: 2.1251 - val_accuracy: 0.2933\n",
            "Epoch 8/20\n",
            "31/31 [==============================] - 14s 386ms/step - loss: 1.9856 - accuracy: 0.3372 - val_loss: 2.1300 - val_accuracy: 0.2831\n",
            "Epoch 9/20\n",
            "31/31 [==============================] - 14s 387ms/step - loss: 1.9480 - accuracy: 0.3438 - val_loss: 2.0904 - val_accuracy: 0.3096\n",
            "Epoch 10/20\n",
            "31/31 [==============================] - 16s 480ms/step - loss: 1.9041 - accuracy: 0.3651 - val_loss: 2.0797 - val_accuracy: 0.3055\n",
            "Epoch 11/20\n",
            "31/31 [==============================] - 16s 445ms/step - loss: 1.8700 - accuracy: 0.3863 - val_loss: 2.0758 - val_accuracy: 0.3238\n",
            "Epoch 12/20\n",
            "31/31 [==============================] - 15s 425ms/step - loss: 1.8339 - accuracy: 0.3870 - val_loss: 2.0501 - val_accuracy: 0.3248\n",
            "Epoch 13/20\n",
            "31/31 [==============================] - 15s 402ms/step - loss: 1.7921 - accuracy: 0.4025 - val_loss: 2.0807 - val_accuracy: 0.3055\n",
            "Epoch 14/20\n",
            "31/31 [==============================] - 15s 415ms/step - loss: 1.7804 - accuracy: 0.4059 - val_loss: 2.0535 - val_accuracy: 0.3187\n",
            "Epoch 15/20\n",
            "31/31 [==============================] - 15s 412ms/step - loss: 1.7354 - accuracy: 0.4247 - val_loss: 2.0404 - val_accuracy: 0.3350\n",
            "Epoch 16/20\n",
            "31/31 [==============================] - 15s 443ms/step - loss: 1.7068 - accuracy: 0.4344 - val_loss: 2.0363 - val_accuracy: 0.3269\n",
            "Epoch 17/20\n",
            "31/31 [==============================] - 15s 416ms/step - loss: 1.6742 - accuracy: 0.4420 - val_loss: 2.0417 - val_accuracy: 0.3228\n",
            "Epoch 18/20\n",
            "31/31 [==============================] - 16s 467ms/step - loss: 1.6274 - accuracy: 0.4570 - val_loss: 2.0668 - val_accuracy: 0.3187\n",
            "Epoch 19/20\n",
            "31/31 [==============================] - 16s 452ms/step - loss: 1.5891 - accuracy: 0.4697 - val_loss: 2.0391 - val_accuracy: 0.3360\n",
            "Epoch 20/20\n",
            "31/31 [==============================] - 15s 412ms/step - loss: 1.5585 - accuracy: 0.4740 - val_loss: 2.0523 - val_accuracy: 0.3340\n"
          ]
        },
        {
          "output_type": "execute_result",
          "data": {
            "text/plain": [
              "<keras.src.callbacks.History at 0x7a9b8d8cff10>"
            ]
          },
          "metadata": {},
          "execution_count": 114
        }
      ],
      "source": [
        "epochs = 20\n",
        "\n",
        "model.compile(loss=keras.losses.SparseCategoricalCrossentropy(), optimizer=\"adam\", metrics=[\"accuracy\"])\n",
        "model.fit(\n",
        "    data_train,\n",
        "    validation_data=data_val,\n",
        "    epochs=epochs)\n"
      ]
    },
    {
      "cell_type": "markdown",
      "metadata": {
        "id": "CPg3V0nOL9S2"
      },
      "source": [
        "## Evaluate the trained model"
      ]
    },
    {
      "cell_type": "code",
      "execution_count": 115,
      "metadata": {
        "colab": {
          "base_uri": "https://localhost:8080/"
        },
        "id": "sNa6RePaL9S3",
        "outputId": "d95a571b-5819-4e45-e9aa-c5af4101f4d3"
      },
      "outputs": [
        {
          "output_type": "stream",
          "name": "stdout",
          "text": [
            "Test loss: 2.1669962406158447\n",
            "Test accuracy: 0.30666667222976685\n"
          ]
        }
      ],
      "source": [
        "score = model.evaluate(data_test, verbose=0)\n",
        "print(\"Test loss:\", score[0])\n",
        "print(\"Test accuracy:\", score[1])"
      ]
    }
  ],
  "metadata": {
    "accelerator": "GPU",
    "colab": {
      "provenance": []
    },
    "kernelspec": {
      "display_name": "Python 3",
      "language": "python",
      "name": "python3"
    },
    "language_info": {
      "codemirror_mode": {
        "name": "ipython",
        "version": 3
      },
      "file_extension": ".py",
      "mimetype": "text/x-python",
      "name": "python",
      "nbconvert_exporter": "python",
      "pygments_lexer": "ipython3",
      "version": "3.7.0"
    }
  },
  "nbformat": 4,
  "nbformat_minor": 0
}